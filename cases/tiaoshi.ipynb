{
 "cells": [
  {
   "cell_type": "code",
   "execution_count": 1,
   "metadata": {
    "collapsed": true
   },
   "outputs": [
    {
     "name": "stdout",
     "output_type": "stream",
     "text": [
      "{'_borrow_info': {'monthly_incoming': 15000, 'name': u'X\\u5faa\\u73af\\u8d3731', 'company': u'\\u5c0f\\u725b\\u666e\\u60e0\\u7ba1\\u7406\\u6709\\u9650\\u516c\\u53f8', 'id_num': '360101199101011054', 'work_year': 5, 'phone': '13564789215', 'job': u'\\u5de5\\u7a0b\\u5e08', 'entry_date': u'2011-02-03', 'address': u'\\u6e56\\u5357\\u957f\\u6c99'}, '_cust_base_info': {'product': u'\\u5faa\\u73af\\u8d37', 'apply_amount': 50000, 'sale_name': u'\\u738b\\u521a', 'team_manager_name': u'\\u5c0f\\u738b', 'branch_manager_name': u'\\u5c0f\\u660e', 'team_manager': 'xn0001', 'module_sale': 'xn0002', 'branch_manager': 'xn111', 'module_month_income': 3000, 'apply_module_team_group_name': u'A\\u961f', 'apply_period': 10, 'checkApprove': u'\\u540c\\u610f'}}\n"
     ]
    },
    {
     "ename": "NameError",
     "evalue": "name 'common' is not defined",
     "traceback": [
      "\u001b[1;31m\u001b[0m",
      "\u001b[1;31mNameError\u001b[0mTraceback (most recent call last)",
      "\u001b[1;32m<ipython-input-1-91faa6c7d5fc>\u001b[0m in \u001b[0;36m<module>\u001b[1;34m()\u001b[0m\n\u001b[0;32m     37\u001b[0m \u001b[1;33m\u001b[0m\u001b[0m\n\u001b[0;32m     38\u001b[0m \u001b[1;33m\u001b[0m\u001b[0m\n\u001b[1;32m---> 39\u001b[1;33m \u001b[0mcommon\u001b[0m\u001b[1;33m.\u001b[0m\u001b[0minput_customer_base_info\u001b[0m\u001b[1;33m(\u001b[0m\u001b[0mpage\u001b[0m\u001b[1;33m,\u001b[0m \u001b[0mcust_info\u001b[0m\u001b[1;33m[\u001b[0m\u001b[1;34m'_cust_base_info'\u001b[0m\u001b[1;33m]\u001b[0m\u001b[1;33m)\u001b[0m\u001b[1;33m\u001b[0m\u001b[0m\n\u001b[0m\u001b[0;32m     40\u001b[0m \u001b[1;33m\u001b[0m\u001b[0m\n\u001b[0;32m     41\u001b[0m \u001b[0mcommon\u001b[0m\u001b[1;33m.\u001b[0m\u001b[0minput_customer_borrow_info\u001b[0m\u001b[1;33m(\u001b[0m\u001b[0mpage\u001b[0m\u001b[1;33m,\u001b[0m \u001b[0mcust_info\u001b[0m\u001b[1;33m[\u001b[0m\u001b[1;34m'_borrow_info'\u001b[0m\u001b[1;33m]\u001b[0m\u001b[1;33m)\u001b[0m\u001b[1;33m\u001b[0m\u001b[0m\n",
      "\u001b[1;31mNameError\u001b[0m: name 'common' is not defined"
     ],
     "output_type": "error"
    }
   ],
   "source": [
    "import random\n",
    "\n",
    "from common.login import Login\n",
    "\n",
    "cust_info = dict(\n",
    "\t_borrow_info=dict(\n",
    "\t\tname=u\"X循环贷\" + str(random.randrange(100)),\n",
    "\t\tid_num=\"360101199101011054\",\n",
    "\t\tphone=\"13564789215\",\n",
    "\t\taddress=u\"湖南长沙\",\n",
    "\t\tcompany=u'小牛普惠管理有限公司',\n",
    "\t\tjob=u'工程师',\n",
    "\t\tentry_date=u'2011-02-03',  # 入职日期\n",
    "\t\twork_year=5,  # 工作年限\n",
    "\t\tmonthly_incoming=15000  # 月均收入\n",
    "\t),\n",
    "\n",
    "\t_cust_base_info=dict(\n",
    "\t\tproduct=u'循环贷',  # 贷款产品\n",
    "\t\tapply_amount=50000,  # 申请金额\n",
    "\t\tapply_period=10,  # 贷款天数\n",
    "\t\tbranch_manager_name=u\"小明\",\n",
    "\t\tbranch_manager=\"xn111\",\n",
    "\t\tapply_module_team_group_name=u\"A队\",\n",
    "\t\tteam_manager_name=u\"小王\",\n",
    "\t\tteam_manager=\"xn0001\",\n",
    "\t\tsale_name=u\"王刚\",\n",
    "\t\tmodule_sale=\"xn0002\",\n",
    "\t\tmodule_month_income=3000,\n",
    "\t\tcheckApprove=u\"同意\",\n",
    "\t)\n",
    ")\n",
    "\n",
    "print cust_info\n",
    "page = Login()\n",
    "\n",
    "\n",
    "\n",
    "common.input_customer_base_info(page, cust_info['_cust_base_info'])\n",
    "\n",
    "common.input_customer_borrow_info(page, cust_info['_borrow_info'])"
   ]
  },
  {
   "cell_type": "code",
   "execution_count": null,
   "metadata": {},
   "outputs": [],
   "source": [
    ""
   ]
  }
 ],
 "metadata": {
  "kernelspec": {
   "display_name": "Python 2",
   "language": "python",
   "name": "python2"
  },
  "language_info": {
   "codemirror_mode": {
    "name": "ipython",
    "version": 2.0
   },
   "file_extension": ".py",
   "mimetype": "text/x-python",
   "name": "python",
   "nbconvert_exporter": "python",
   "pygments_lexer": "ipython2",
   "version": "2.7.6"
  }
 },
 "nbformat": 4,
 "nbformat_minor": 0
}