{
 "cells": [
  {
   "cell_type": "code",
   "execution_count": 6,
   "metadata": {
    "collapsed": true
   },
   "outputs": [],
   "source": [
    "from selenium import webdriver\n",
    "driver = webdriver.Chrome()\n",
    "driver.get(\"https://www.baidu.com\")\n",
    "\n",
    "import time\n",
    "time.sleep(3)\n",
    "driver.quit()"
   ]
  },
  {
   "cell_type": "heading",
   "metadata": {},
   "level": 2,
   "source": [
    ""
   ]
  },
  {
   "cell_type": "code",
   "execution_count": 2,
   "metadata": {
    "collapsed": true
   },
   "outputs": [
    {
     "data": {
      "text/plain": [
       "[1, 3, 5, 7, 9]"
      ]
     },
     "execution_count": 2,
     "metadata": {},
     "output_type": "execute_result"
    }
   ],
   "source": [
    "range(1, 10, 2)"
   ]
  },
  {
   "cell_type": "markdown",
   "metadata": {},
   "source": [
    " fda664280efc906f694cd4d70527de035939f9239a9304e9"
   ]
  },
  {
   "cell_type": "code",
   "execution_count": 6,
   "metadata": {},
   "outputs": [
    {
     "name": "stdout",
     "output_type": "stream",
     "text": [
      "{'tdjlxm_id': 'apply_module_team_manager_name', 'lsyjsr_id': 'apply_module_month_income', 'zyyjbz_name': 'checkApprove', 'khjlgh_id': 'apply_module_sale', 'je_id': 'apply_module_apply_amount', 'khjlxm_id': 'apply_module_sale_name', 'tdjlgh_id': 'apply_module_team_manager', 'dkts_id': 'apply_module_apply_period', 'tdzb_id': 'apply_module_team_group_name', 'fgsjlgh_id': 'apply_module_branch_manager', 'fgsjlxm_id': 'apply_module_branch_manager_name'}\n"
     ]
    }
   ],
   "source": [
    "from config.gqt_locator import loc_cust_info\n",
    "a = loc_cust_info\n",
    "print a"
   ]
  },
  {
   "cell_type": "markdown",
   "metadata": {},
   "source": [
    "jupyter notebook --generate-config\n",
    "- 默认工作空间"
   ]
  },
  {
   "cell_type": "heading",
   "metadata": {},
   "level": 1,
   "source": [
    ""
   ]
  },
  {
   "cell_type": "markdown",
   "metadata": {},
   "source": [
    "执行当前cell，并自动跳到下一个cell：Shift Enter\n",
    "\n",
    "执行当前cell，执行后不自动调转到下一个cell：Ctrl-Enter\n",
    "\n",
    "是当前的cell进入编辑模式：Enter\n",
    "\n",
    "退出当前cell的编辑模式：Esc\n",
    "\n",
    "删除当前的cell：双D\n",
    "\n",
    "为当前的cell加入line number：单L\n",
    "\n",
    "将当前的cell转化为具有一级标题的maskdown：单1\n",
    "\n",
    "将当前的cell转化为具有二级标题的maskdown：单2\n",
    "\n",
    "将当前的cell转化为具有三级标题的maskdown：单3\n",
    "\n",
    "为一行或者多行添加/取消注释：Crtl /\n",
    "\n",
    "撤销对某个cell的删除：z\n",
    "\n",
    "浏览器的各个Tab之间切换：Crtl PgUp和Crtl PgDn\n",
    "\n",
    "快速跳转到首个cell：Crtl Home\n",
    "\n",
    "快速跳转到最后一个cell：Crtl End"
   ]
  },
  {
   "cell_type": "code",
   "execution_count": 6,
   "metadata": {},
   "outputs": [
    {
     "name": "stdout",
     "output_type": "stream",
     "text": [
      "{'tdjlxm_id': 'apply_module_team_manager_name', 'lsyjsr_id': 'apply_module_month_income', 'zyyjbz_name': 'checkApprove', 'khjlgh_id': 'apply_module_sale', 'je_id': 'apply_module_apply_amount', 'khjlxm_id': 'apply_module_sale_name', 'tdjlgh_id': 'apply_module_team_manager', 'dkts_id': 'apply_module_apply_period', 'tdzb_id': 'apply_module_team_group_name', 'fgsjlgh_id': 'apply_module_branch_manager', 'fgsjlxm_id': 'apply_module_branch_manager_name'}\n"
     ]
    }
   ],
   "source": [
    "from config.gqt_locator import loc_cust_info\n",
    "a = loc_cust_info\n",
    "print a"
   ]
  },
  {
   "cell_type": "code",
   "execution_count": 7,
   "metadata": {},
   "outputs": [],
   "source": [
    ""
   ]
  },
  {
   "cell_type": "code",
   "execution_count": 8,
   "metadata": {},
   "outputs": [],
   "source": [
    "# %load start.py\n",
    "import os\n",
    "import time\n",
    "import unittest\n",
    "import sys\n",
    "from HTMLTestRunner import HTMLTestRunner\n",
    "\n",
    "from cases import test_gqt_input_data\n",
    "\n",
    "reload(sys)\n",
    "sys.setdefaultencoding('utf-8')\n",
    "\n",
    "if __name__ == \"__main__\":\n",
    "\tdef set_reporter_path():\n",
    "\t\t# 定义报告存放路径以及格式\n",
    "\t\t# local_dir = os.path.dirname(os.getcwd())\n",
    "\t\tlocal_dir = os.getcwd()\n",
    "\t\tprint(\"local_dir: %s \" % local_dir)\n",
    "\t\tpath = local_dir + \"\\log\\\\\" + now + \"-result.html\"\n",
    "\t\tprint(\"path:\", path)\n",
    "\t\treturn local_dir, path\n",
    "\n",
    "\n",
    "\t# 按照一定格式获取当前时间\n",
    "\tnow = time.strftime(\"%Y-%m-%d %H_%M_%S\")\n",
    "\tPT = set_reporter_path()\n",
    "\tprint(\"path:\", PT)\n",
    "\tfp = open(PT[1], 'wb')\n",
    "\n",
    "\tsuite = unittest.TestSuite()\n",
    "\t# 构造测试套件\n",
    "\tsuite.addTest(test_gqt_input_data.GQT('test_run'))\n",
    "\trunner = unittest.TextTestRunner()\n",
    "\n",
    "\t# 定义测试报告\n",
    "\trunner = HTMLTestRunner(stream=fp, title='测试报告', description='用例执行情况:')\n",
    "\trunner.run(suite)\n",
    "\n",
    "\tfp.close()  # 关闭测试报告"
   ]
  },
  {
   "cell_type": "code",
   "execution_count": 1,
   "metadata": {},
   "outputs": [
    {
     "name": "stderr",
     "output_type": "stream",
     "text": [
      "ERROR:root:File `u'common.login.py'` not found.\n"
     ]
    }
   ],
   "source": [
    ""
   ]
  },
  {
   "cell_type": "markdown",
   "metadata": {},
   "source": [
    "[需要添加连接的文字](#the_destination)"
   ]
  },
  {
   "cell_type": "code",
   "execution_count": 2,
   "metadata": {},
   "outputs": [],
   "source": [
    ""
   ]
  },
  {
   "cell_type": "code",
   "execution_count": 2,
   "metadata": {},
   "outputs": [],
   "source": [
    ""
   ]
  },
  {
   "cell_type": "code",
   "execution_count": 2,
   "metadata": {},
   "outputs": [],
   "source": [
    ""
   ]
  },
  {
   "cell_type": "code",
   "execution_count": null,
   "metadata": {},
   "outputs": [],
   "source": [
    ""
   ]
  }
 ],
 "metadata": {
  "kernelspec": {
   "display_name": "Python 2",
   "language": "python",
   "name": "python2"
  },
  "language_info": {
   "codemirror_mode": {
    "name": "ipython",
    "version": 2.0
   },
   "file_extension": ".py",
   "mimetype": "text/x-python",
   "name": "python",
   "nbconvert_exporter": "python",
   "pygments_lexer": "ipython2",
   "version": "2.7.6"
  }
 },
 "nbformat": 4,
 "nbformat_minor": 0
}